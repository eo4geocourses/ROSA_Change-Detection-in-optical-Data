{
 "cells": [
  {
   "cell_type": "markdown",
   "metadata": {},
   "source": [
    "# EO4GEO Change Detection using EO Data"
   ]
  },
  {
   "cell_type": "markdown",
   "metadata": {},
   "source": [
    "<div style=\"text-align: justify\"> Change detection is the “process of identifying differences in the state of an object or phenomenon by observing it in different times” [Singh, 1989] ; “the objective of change detection is to compare spatial representation of two points in time by controlling all variances caused by differences in the variables of interest” [Green et all., 1994] \n",
    "When using Earth Observation (EO) data, change detection algorithms analyze multiple images of the same scene – taken at different times – to identify regions of change.<br> \n",
    "A good change detection research should provide the following information : \n",
    "    <ol><li>area change and change rate;</li>\n",
    "        <li>spatial distribution of changed types; </li>\n",
    "        <li>change trajectories of land-cover types and </li>\n",
    "        <li>accuracy assessment of change detection results.</li></ol> </div>"
   ]
  },
  {
   "cell_type": "markdown",
   "metadata": {},
   "source": [
    "<h2><center>How EO Can Help to Detect Changes</center></h2>"
   ]
  },
  {
   "cell_type": "markdown",
   "metadata": {},
   "source": [
    "<div style=\"text-align: justify\">Eart Observation is done using terrestrial, aerial and satellite borne instruments: <br>\n",
    "<table><tr><td><img src=\"https://eo4geo.sbg.ac.at/ROSA/chdet/images/satplatf.png\" width =\"400\"/></td><td><img src=\"https://eo4geo.sbg.ac.at/ROSA/chdet/images/aerplatf.png\" width =\"400\"/></td></tr></table> <br>\n",
    "Systems on ground i.e land or water moving vehicles such as Sonar systems on ships can be used to create images of the ocean floor without needing to travel to the bottom of the ocean. Camera on satellites can be used to generate images of temperature changes in the oceans (see image below). <br>\n",
    "Instruments on satellites and airplanes take images of large areas on the Earth's surface, allowing us to see much more than we can when standing on the ground. <br></div>"
   ]
  },
  {
   "cell_type": "markdown",
   "metadata": {},
   "source": [
    "<div style=\"text-align: justify\">The ground, aerial and satellite born instruments apply remote sensing principles described in the figure below. <br></div>"
   ]
  },
  {
   "cell_type": "markdown",
   "metadata": {},
   "source": [
    "<div style=\"text-align: center\"><img src=\"https://eo4geo.sbg.ac.at/ROSA/chdet/images/rsprinc.png\" width =\"400\"/></div>"
   ]
  },
  {
   "cell_type": "markdown",
   "metadata": {},
   "source": [
    "<div style=\"text-align: justify\">When doing change detection we use remote sensing data because\n",
    "remote sensing allows acquiring information about the Earth's surface without actually being in contact with it and this is done by sensing and recording reflected or emitted energy [Canada Centre for Remote Sensing, 2007].<br>The data we get when observing the Eart by means of remote sensing is used to generate pixels - a picture element or data point in an image whose color depend on reflected or emitted energy at a given location. Pixels are characterised by the following types of resolution:</div>\n",
    "<ul>\n",
    "    <li>Spatial resolution: the size of an image’s pixels, usually as measured by one side of the pixel (e.g., 10m, or 1km resolution). Equivalently, the number of pixels per unit area. Higher resolution (i.e. smaller pixels) images provide more detail by capturing fine scale variation in reflectance across a given area;</li>\n",
    "    <div style=\"text-align: center\"><br><img src=\"https://eo4geo.sbg.ac.at/ROSA/chdet/images/resspat.png\" width =\"400\"/><br></div>\n",
    "    <li>Spectral resolution: The number of bands of radiation in the electromagnetic spectrum that a satellite can sample (visible, infrared, ultraviolet, microwave, x-ray, etc.);</li>\n",
    "    <div style=\"text-align: center\"><br><img src=\"https://eo4geo.sbg.ac.at/ROSA/chdet/images/resspec.png\" width =\"400\"/><br></div>\n",
    "    <li>Radiometric resolution: Essentially,  refers to color depth, or how detailed the colors we can create when making color composite images; The finer the radiometric resolution of a sensor, the more sensitive it is to detecting small differences in reflected or emitted energy; remote sensing data can be 8 bit, 16 bit etc;</li>\n",
    "    <div style=\"text-align: center\"><br><img src=\"https://eo4geo.sbg.ac.at/ROSA/chdet/images/resradi.png\" width =\"400\"/><br></div>\n",
    "    <li>Temporal resolution: The amount of time of the revisiting period depends on the orbital characteristics of the sensor platform; Orbit selection can vary in terms of altitude (their height above the Earths surface), their orientation and rotation relative to the Earth; Temporal resolution varies by satellite and describes the time it takes for an individual satellite to orbit and revisit a specific area. Some satellites operates as a constellation with multiple satellites working together to increase their global coverage daily (Miglarese, 2018)</li>\n",
    "    <div style=\"text-align: center\"><br><img src=\"https://eo4geo.sbg.ac.at/ROSA/chdet/images/restemp.png\" width =\"400\"/><br></div>\n",
    "    <li>Band: a single variable recorded at pixels in an image; Images may contain many bands as they are storing values from different parts of the electromagnetic spectrum, depending on the spectral resolution.<br></li>\n",
    "</ul>"
   ]
  },
  {
   "cell_type": "markdown",
   "metadata": {},
   "source": [
    "<div style=\"text-align: justify\">Another important aspect when doing change detection using remote sensing Earth observation data is the type of instrument used to observe, which can be an active or a passive one:\n",
    "<div style=\"text-align: center\"><br><img src=\"https://eo4geo.sbg.ac.at/ROSA/chdet/images/activpasiv.png\" width =\"300\"/><br></div>\n",
    "Passive instruments can measure energy that is naturally available. The sun's energy is either reflected, as it is for visible wavelengths, or absorbed and then re-emitted, as it is for thermal infrared wavelengths; due to these wavelengts, in general, passive satellites are not able to work during the night or through the clouds. Examples of passive satellite Earth Observation missions are: MODIS, Landsat-8, Worldview-4, Pleiades, Sentinel-2. <br>\n",
    "Active instruments provide their own energy source for the 'illumination' of the target. The instrumet emits radiation which is directed toward the target to be investigated. The radiation reflected from that target is detected and measured by the sensor. Advantages for active instruments include the ability to obtain measurements anytime, regardless of the time of day or season. Examples of active satellite Earth Observation missions are: Sentinel–1, RADARSAT-2, TanDEM–X, ALOS-2.</div>"
   ]
  },
  {
   "cell_type": "markdown",
   "metadata": {},
   "source": [
    "## Change Detection Methods"
   ]
  },
  {
   "cell_type": "markdown",
   "metadata": {},
   "source": [
    "<div style=\"text-align: justify\">For efectively detecting changes over a specific territory using EO satellite data, many approaches are known and presented in scientific publications [Asokan, A., Anitha, A., 2019, Change detection techniques for remote sensing applications : a survey, Earth Science Informatics, 12, 143 - 160] - see the figure below. Each of these methods involve specific processing of the EO data used for detecting chages.</div>\n",
    "<br><table><tr><td><img src=\"https://eo4geo.sbg.ac.at/ROSA/chdet/images/cdmethods.png\" width=\"300\" height=\"100\"/></td><td><img src=\"https://eo4geo.sbg.ac.at/ROSA/chdet/images/cdimgproc.png\" width=\"300\" height=\"100\"/></td></tr></table> <br></div>"
   ]
  },
  {
   "cell_type": "markdown",
   "metadata": {},
   "source": [
    "## Example 1: Quantity of Changes"
   ]
  },
  {
   "cell_type": "markdown",
   "metadata": {},
   "source": [
    "<div style=\"text-align: justify\">The Corine programme was initiated in the European Union in 1985. It means coordination of information on the environment.The Corine land cover (CLC) databases is coordinated by EEA. It is an inventory of land cover in 44 classes, presented as a cartographic product at a scale 1 : 100000 and a minimum mapping unit of 25 hectares. It was produced the first time for the reference year 1990, followed by updates for the years 2000, 2006, 2012, 2018. The main data source for CORINE Land Cover have been satellite images such as Landsat TM, SPOT HRV and IRS LISS. All CLC data can be accessed by download or directly as OGC services (check https://land.copernicus.eu/pan-european/corine-land-cover). The CLC data from 1990 till 2018 can be compared in the map viewer below.</div>"
   ]
  },
  {
   "cell_type": "code",
   "execution_count": null,
   "metadata": {},
   "outputs": [],
   "source": [
    "from ipyleaflet import Map, WMSLayer, GeoJSON, basemaps, LayersControl\n",
    "import os, json, random, requests\n",
    "if not os.path.exists('constanta.geojson'):\n",
    "    url = 'https://eo4geo.sbg.ac.at/ROSA/chdet/data/constanta.geo.json'\n",
    "    r = requests.get(url)\n",
    "    with open('constanta.geojson', 'w') as f:\n",
    "        f.write(r.content.decode(\"utf-8\"))\n",
    "with open('constanta.geojson', 'r') as f:\n",
    "    data = json.load(f) \n",
    "limct = GeoJSON(data=data, name=\"Constanta\",style = {'color': 'Blue', 'opacity':1, 'weight':1.9, 'dashArray':'5', 'fillOpacity':0.5})    \n",
    "\n",
    "clc90 = WMSLayer(\n",
    "    url='https://image.discomap.eea.europa.eu/arcgis/services/Corine/CLC1990_WM/MapServer/WmsServer?',\n",
    "    layers='Corine_Land_Cover_1990_raster17001',format='image/png',transparent=True,attribution='CLC 1990',name=\"CLC 1990\")\n",
    "clc00 = WMSLayer(\n",
    "    url='https://image.discomap.eea.europa.eu/arcgis/services/Corine/CLC2000_WM/MapServer/WmsServer?',\n",
    "    layers='Corine_Land_Cover_2000_raster11306',format='image/png',transparent=True,attribution='CLC 2000',name=\"CLC 2000\")\n",
    "clc06 = WMSLayer(\n",
    "    url='https://image.discomap.eea.europa.eu/arcgis/services/Corine/CLC2006_WM/MapServer/WmsServer?',\n",
    "    layers='Corine_Land_Cover_2006_raster43084',format='image/png',transparent=True,attribution='CLC 2006',name=\"CLC 2006\")\n",
    "clc12 = WMSLayer(\n",
    "    url='https://image.discomap.eea.europa.eu/arcgis/services/Corine/CLC2012_WM/MapServer/WmsServer?',\n",
    "    layers='Corine_Land_Cover_2012_raster59601',format='image/png',transparent=True,attribution='CLC 2012',name=\"CLC 2012\")\n",
    "clc18 = WMSLayer(\n",
    "    url='https://image.discomap.eea.europa.eu/arcgis/services/Corine/CLC2018_WM/MapServer/WmsServer?',\n",
    "    layers='12',format='image/png',transparent=True,attribution='CLC 2018',name=\"CLC 2018\")\n",
    "\n",
    "m = Map(basemap=basemaps.CartoDB.Positron, center=(44.20, 28.60), zoom=10)\n",
    "m.add_layer(clc90)\n",
    "m.add_layer(clc00)\n",
    "m.add_layer(clc06)\n",
    "m.add_layer(clc12)\n",
    "m.add_layer(clc18)\n",
    "m.add_layer(limct)\n",
    "lrcontrol = LayersControl(position='topright')\n",
    "m.add_control(lrcontrol)\n",
    "m"
   ]
  },
  {
   "cell_type": "markdown",
   "metadata": {},
   "source": [
    "<div style=\"text-align: center\">CLC Legend<br><img src=\"https://eo4geo.sbg.ac.at/ROSA/chdet/images/clclegend.png\" width =\"500\"/><br></div>"
   ]
  },
  {
   "cell_type": "markdown",
   "metadata": {},
   "source": [
    "<div style=\"text-align: justify\">In this example, the urban area of Constanta, Romania is selected (see the blue area in the map above). If statistics are computed for this specific area of interest, quantitative information about the volume of changes can be derived. Such statistics computed for the selectd urban area are given below, in comparative graphs.</div><br>\n",
    "<table><tr><td>2000</td><td>2006</td><td>2012</td><td>2018</td></tr><tr>\n",
    "<td><img src=\"https://eo4geo.sbg.ac.at/ROSA/chdet/images/clcct00.png\" width =\"300\"/></td><td><img src=\"https://eo4geo.sbg.ac.at/ROSA/chdet/images/clcct06.png\" width =\"300\"/></td><td><img src=\"https://eo4geo.sbg.ac.at/ROSA/chdet/images/clcct12.png\" width =\"300\"/></td><td><img src=\"https://eo4geo.sbg.ac.at/ROSA/chdet/images/clcct18.png\" width =\"300\"/></td></tr></table>"
   ]
  },
  {
   "cell_type": "code",
   "execution_count": null,
   "metadata": {},
   "outputs": [],
   "source": [
    "import pandas as pd\n",
    "import matplotlib.pyplot as plt\n",
    "import numpy as np\n",
    "import random\n",
    "clcdata = pd.read_csv('https://eo4geo.sbg.ac.at/ROSA/chdet/data//clccompct.csv',dtype=\"str,f8,f8,f8,f8,f8\")\n",
    "classes = clcdata['Class'].tolist()\n",
    "years=clcdata.columns\n",
    "colorss=['red','orange','yellow','cyan','green']\n",
    "\n",
    "index=np.arange(21)\n",
    "wd=0.2\n",
    "i=0\n",
    "plt.figure(figsize=(15,5))\n",
    "for y in years[1:6]:\n",
    "    plt.bar(index+i*wd/2, clcdata[y].tolist(), wd, color=colorss[i], label=y)\n",
    "    i=i+1\n",
    "\n",
    "plt.xticks(index+wd/2,classes)\n",
    "plt.title(\"CLC Changes 1990-2018\")\n",
    "plt.xlabel('CLC Class')\n",
    "plt.ylabel('Total area in hectares')\n",
    "plt.legend(loc='best')\n",
    "plt.show()"
   ]
  },
  {
   "cell_type": "markdown",
   "metadata": {},
   "source": [
    "## Example 2: Change Detection in Urban Area Using SAR Data"
   ]
  },
  {
   "cell_type": "markdown",
   "metadata": {},
   "source": [
    "<div style=\"text-align: justify\">Change detection process in SAR images usually has two phases : difference detection from images using several types of operations and classification of images with or without changes based on supervised or unsupervised techniques (Jia et al., 2018). <br>\n",
    "The determination of changes is usually based on a ratio or difference operator, which is sensitive to radiometric and calibration errors. Speckle noise in SAR images may affect the performance. Minimization of the effect of speckle noise can be performed based on a log ratio operator (Das et al. 2016).<br>\n",
    "Based on the implementation available in the the ESA SNAP Software, SAR data can be used to detect changes in urban area by applying the concept and the processing chain described in the figure below</div><br><br>\n",
    "<table><tr><td><img src=\"https://eo4geo.sbg.ac.at/ROSA/chdet/images/sarchain.png\" width =\"400\"/></td><td><img src=\"https://eo4geo.sbg.ac.at/ROSA/chdet/images/sarmethod.png\" width =\"400\"/></td></tr></table>"
   ]
  },
  {
   "cell_type": "markdown",
   "metadata": {},
   "source": [
    "<div style=\"text-align: justify\">If two satellite images are compared as shown in the viewer below, one may observe local changes due to different human activities or other reasons.</div>"
   ]
  },
  {
   "cell_type": "code",
   "execution_count": null,
   "metadata": {
    "scrolled": true
   },
   "outputs": [],
   "source": [
    "from ipyleaflet import Map, ImageOverlay, basemaps, SplitMapControl, LayersControl\n",
    "if not os.path.exists('bucuresti.geojson'):\n",
    "    url = 'https://eo4geo.sbg.ac.at/ROSA/chdet/data/bucuresti.geojson'\n",
    "    r = requests.get(url)\n",
    "    with open('bucuresti.geojson', 'w') as f:\n",
    "        f.write(r.content.decode(\"utf-8\"))\n",
    "with open('bucuresti.geojson', 'r') as f:\n",
    "    data = json.load(f)   \n",
    "limbuc = GeoJSON(data=data, name=\"Limit\",style = {'color': 'Green', 'opacity':1, 'weight':1.9, 'dashArray':'5', 'fillOpacity':0.4})\n",
    "bucl16 = ImageOverlay(\n",
    "    url=\"https://eo4geo.sbg.ac.at/ROSA/chdet/images/buc16.png\",\n",
    "     name=\"Data2016\",\n",
    "    bounds=((44.5312, 25.9151), (44.3470, 26.2966)))\n",
    "bucl19 = ImageOverlay(\n",
    "    url=\"https://eo4geo.sbg.ac.at/ROSA/chdet/images/buc19.png\",\n",
    "     name=\"Data2019\",\n",
    "    bounds=((44.5312, 25.9151), (44.3470, 26.2966)))\n",
    "buccd = ImageOverlay(\n",
    "    url=\"https://eo4geo.sbg.ac.at/ROSA/chdet/images/buccd.png\",\n",
    "    name=\"Changes\",\n",
    "    bounds=((44.5312, 25.9151), (44.3470, 26.2966)))\n",
    "bucci = ImageOverlay(\n",
    "    url=\"https://eo4geo.sbg.ac.at/ROSA/chdet/images/sarcdmap.png\",\n",
    "    name=\"Change Info\",\n",
    "    bounds=((44.564453, 25.903391), (44.320411, 26.286542)))\n",
    "#splitcontrol = SplitMapControl(left_layer=bucl19, right_layer=bucl16)\n",
    "m = Map(basemap=basemaps.CartoDB.Positron, center=(44.45, 26.1), zoom=11)\n",
    "#m.add_control(splitcontrol)\n",
    "m.add_layer(bucl16)\n",
    "m.add_layer(bucl19)\n",
    "m.add_layer(buccd)\n",
    "m.add_layer(bucci)\n",
    "m.add_layer(limbuc)\n",
    "lrcontrol = LayersControl(position='topright')\n",
    "m.add_control(lrcontrol)\n",
    "m"
   ]
  },
  {
   "cell_type": "markdown",
   "metadata": {},
   "source": [
    "<div style=\"text-align: justify\">In the viewer above, it can be easily seen that if two dates images are visually compared - Copernicus Sentine-1 data from 2016 and 2019 in this case - one can have difficulties in 'seing' the changes. In the change detection map derived by applying the change detection algorithms available in the ESA SNAP Software (see the layer named 'Changes') , a number of spots can be then easily identified and, using ancillary data such as Google Earth or inspection on the field, the nature of changes can be then described and further analyzed (see the layer named 'Change Info')</div> "
   ]
  },
  {
   "cell_type": "markdown",
   "metadata": {},
   "source": [
    "## Example 3: Change Detection in Image Time Series"
   ]
  },
  {
   "cell_type": "markdown",
   "metadata": {},
   "source": [
    "<div style=\"text-align: justify\">In many cases there is a need to detect phenomena with a higher change rate such as development of vegetation. In these cases, image time series (ITS) are more suitable to detect changes. <br>\n",
    "It is worth mentioning that in many cases, different types of derived image indexes are used instead of raw pixel values when analyzing ITS. Here's some examples:<br><br><div style=\"text-align: center\">\n",
    "    $NDVI=\\frac{NIR - Red}{NIR + Red}$ <br><br>\n",
    "    $NDWI=\\frac{NIR - SWIR}{NIR + SWIR}$ <br><br>\n",
    "    $NDSI=\\frac{Green - SWIR}{Green + SWIR}$ <br><br>\n",
    "</div>where NIR - Near InfraRed, SWIR - Short-Wave InfraRed and together with Red and Green are denoting band of multispectral satellite EO data. <br> \n",
    "Normalized Difference Vegetation Index (NDVI) quantifies vegetation by measuring the difference between near-infrared (which vegetation strongly reflects) and red light (which vegetation absorbs). <br> NDSI was designed to detect snow and ice cover. NDSI is a measure of the relative magnitude of the reflectance difference between visible (green) and shortwave infrared (SWIR). It controls variance of two bands (one in the near infrared or short-wave infrared and another one in the visible parts of the spectrum). <br>\n",
    "NDWI serves to detect the amount of water in soil or canopy. The NDWI varies from -1 to +1, depending on the hardwood content, as well as the type of vegetation and cover. The high NDWI values correspond to high plant water content and coating of high plant fraction. Low NDWI values correspond to low vegetation content and cover with low vegetation. During periods of water stress the NDWI rate will decrease. NDWI for agricultural monitoring of drought and irrigation management can be constructed using Copernicus Sentinel-2 data in either bands 8A and 11 or bands 8A and 12. Examples of NDVI time series (values and graphic) are given below for a number of land cover types - sand, lake, river, wetland, forest, agricultural field - as derived from Copernicus Sentinel 2 data. </div>"
   ]
  },
  {
   "cell_type": "code",
   "execution_count": null,
   "metadata": {},
   "outputs": [],
   "source": [
    "import pandas as pd\n",
    "import matplotlib.pyplot as plt\n",
    "import numpy as np\n",
    "import random\n",
    "ndvidata = pd.read_csv('https://eo4geo.sbg.ac.at/ROSA/chdet/data/ndvits.csv',dtype=\"str,f8,f8,f8,f8,f8,f8\")\n",
    "ndvidata"
   ]
  },
  {
   "cell_type": "code",
   "execution_count": null,
   "metadata": {},
   "outputs": [],
   "source": [
    "classes = ndvidata['class'].tolist()\n",
    "months=ndvidata.columns\n",
    "colorss=['yellow','blue','cyan','green','red','lightblue','orange',]\n",
    "index=np.arange(7)\n",
    "#wd=0.2\n",
    "i=0\n",
    "plt.figure(figsize=(10,5))\n",
    "for y in months[1:7]:\n",
    "    #plt.plot(index+i*wd, ndvidata[y].tolist(), wd, color=colorss[i], label=classes[i])\n",
    "    plt.plot(index, ndvidata[y].tolist(), color=colorss[i], label=classes[i])\n",
    "    i=i+1\n",
    "\n",
    "#plt.xticks(index+wd/2,months)\n",
    "plt.xticks(index,months[1:7])\n",
    "plt.title(\"NDVI March-November\")\n",
    "plt.xlabel('Month')\n",
    "plt.ylabel('Value')\n",
    "plt.legend(loc='best')\n",
    "plt.show()"
   ]
  },
  {
   "cell_type": "markdown",
   "metadata": {},
   "source": [
    "<div style=\"text-align: justify\">Using such profiles or time series one can judge based on its own or well-known scientific results and draw conclusions on the changes occured over specific areas represented by individual or groups of pixels.</div>"
   ]
  },
  {
   "cell_type": "markdown",
   "metadata": {},
   "source": [
    "## Conclusions"
   ]
  },
  {
   "cell_type": "markdown",
   "metadata": {},
   "source": [
    "<div style=\"text-align: justify\">Change detection is the process of identifying differences in the state of objects or phenomena by observing them at different moments in time. Essentially, it involves the ability to quantify temporal effects using multitemporal data sets. Change detection is one of the major applications of remotely-sensed data obtained from Earth-orbiting satellites because of repetitive coverage at short time intervals and consistent image quality (Ingram et al. 1981, Nelson 1983, Singh 1984).\n",
    "The first part of this presentation presents details on platforms and instruments of Earth observation pursuing with the principles of remote sensing. A specific importance is given to the types of resolutions which bring consistent contribution in different analysis domains.\n",
    "<br>After introducing the theoretical concepts on performing change detection, three examples are given, showing three different approaches - a quantitative approach using CLC data, a qualitative assessment using Copernicus Sentinel-1 data and the principles of SITS analysis for change detection.</div>"
   ]
  }
 ],
 "metadata": {
  "kernelspec": {
   "display_name": "Python 3",
   "language": "python",
   "name": "python3"
  },
  "language_info": {
   "codemirror_mode": {
    "name": "ipython",
    "version": 3
   },
   "file_extension": ".py",
   "mimetype": "text/x-python",
   "name": "python",
   "nbconvert_exporter": "python",
   "pygments_lexer": "ipython3",
   "version": "3.7.3"
  }
 },
 "nbformat": 4,
 "nbformat_minor": 4
}
